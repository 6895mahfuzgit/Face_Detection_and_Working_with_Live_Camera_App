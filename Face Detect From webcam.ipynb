{
 "cells": [
  {
   "cell_type": "markdown",
   "metadata": {},
   "source": [
    "## Face Detect From Webcam"
   ]
  },
  {
   "cell_type": "code",
   "execution_count": 6,
   "metadata": {},
   "outputs": [],
   "source": [
    "import cv2 \n",
    "facecascade=cv2.CascadeClassifier('haarcascade_frontalface_default.xml')\n",
    "webcam=cv2.VideoCapture(0)\n",
    "while(True):\n",
    "    ret,frame = webcam.read()\n",
    "    gray=cv2.cvtColor(frame,cv2.COLOR_BGR2GRAY)\n",
    "    faces= facecascade.detectMultiScale(gray,scaleFactor=1.2,minNeighbors=5,minSize=(20,20))\n",
    "    for (x,y,w,h) in faces:\n",
    "        cv2.rectangle(frame,(x,y), (x+w,y+h),(255,0,0),1)\n",
    "        cv2.imshow('frames',frame)\n",
    "        roi=frame[y:y+h,x:x+w] # take only face section\n",
    "    if cv2.waitKey(1) & 0xff==ord('t'):    \n",
    "        cv2.imwrite('facePic.jpg',roi)\n",
    "    elif cv2.waitKey(1) & 0xff==ord('o'):\n",
    "            break;\n",
    "    else:\n",
    "        pass\n",
    "webcam.release()\n",
    "cv2.destroyAllWindows()"
   ]
  }
 ],
 "metadata": {
  "kernelspec": {
   "display_name": "Python 3",
   "language": "python",
   "name": "python3"
  },
  "language_info": {
   "codemirror_mode": {
    "name": "ipython",
    "version": 3
   },
   "file_extension": ".py",
   "mimetype": "text/x-python",
   "name": "python",
   "nbconvert_exporter": "python",
   "pygments_lexer": "ipython3",
   "version": "3.8.5"
  }
 },
 "nbformat": 4,
 "nbformat_minor": 4
}
